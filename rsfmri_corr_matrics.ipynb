{
 "cells": [
  {
   "cell_type": "code",
   "execution_count": 83,
   "metadata": {
    "collapsed": false
   },
   "outputs": [
    {
     "name": "stdout",
     "output_type": "stream",
     "text": [
      "height has been deprecated.\n",
      "\n"
     ]
    }
   ],
   "source": [
    "%matplotlib inline\n",
    "import matplotlib.pylab\n",
    "import os\n",
    "#import mne\n",
    "import glob\n",
    "import matplotlib\n",
    "import matplotlib.pyplot as plt\n",
    "import numpy as np\n",
    "import pandas as pd\n",
    "import scipy\n",
    "import scipy.stats as stats\n",
    "from pylab import savefig\n",
    "\n",
    "import pylab as pl\n",
    "from IPython.display import display\n",
    "\n",
    "import glob\n",
    "import copy\n",
    "\n",
    "pd.set_option('display.height', 500)\n",
    "pd.set_option('display.max_rows', 500)\n",
    "\n",
    "import warnings\n",
    "warnings.filterwarnings(\"ignore\", category=DeprecationWarning) \n",
    "\n",
    "import seaborn as sns\n",
    "sns.set_context(rc={\"figure.figsize\": (10,10),'font.size': 16})"
   ]
  },
  {
   "cell_type": "markdown",
   "metadata": {},
   "source": [
    "### Define subject groups"
   ]
  },
  {
   "cell_type": "code",
   "execution_count": 84,
   "metadata": {
    "collapsed": false
   },
   "outputs": [],
   "source": [
    "pfw = ['FACT_106', 'FACT_108', 'FACT_109', 'FACT_110', 'FACT_115',\n",
    "'FACT_116', 'FACT_120', 'FACT_123', 'FACT_128', 'FACT_141', 'FACT_142', 'FACT_151', 'FACT_159', 'FACT_160',\n",
    "'FACT_165', 'FACT_166', 'FACT_167', 'FACT_172', 'FACT_176', 'FACT_177', 'FACT_179', 'FACT_182']\n",
    "#pfw = high\n",
    "\n",
    "pws = ['FACT_113', 'FACT_114', 'FACT_129', 'FACT_131', 'FACT_134', 'FACT_135', 'FACT_137',\n",
    "'FACT_138', 'FACT_143', 'FACT_145', 'FACT_147', 'FACT_148', 'FACT_149', 'FACT_154', 'FACT_156',\n",
    "'FACT_157', 'FACT_162', 'FACT_174', 'FACT_178']\n",
    "#pws = low\n",
    "\n",
    "#pws_bin = np.zeros(39)\n",
    "#pws_bin[pws] = 1"
   ]
  },
  {
   "cell_type": "markdown",
   "metadata": {},
   "source": [
    "### define directory paths"
   ]
  },
  {
   "cell_type": "code",
   "execution_count": 85,
   "metadata": {
    "collapsed": true
   },
   "outputs": [],
   "source": [
    "restdir = '/Users/julialeonard/om/resting_output/'\n",
    "aparc_results = 'parcellations/aparc/'"
   ]
  },
  {
   "cell_type": "markdown",
   "metadata": {},
   "source": [
    "### Connect to openmind via SSHFS:"
   ]
  },
  {
   "cell_type": "code",
   "execution_count": null,
   "metadata": {
    "collapsed": true
   },
   "outputs": [],
   "source": [
    "#if ~os.path.isdir(restdir):\n",
    "#    os.system(\"sshfs ~/om jlnrd@openmind7.mit.edu:/ -o defer_permissions\")"
   ]
  },
  {
   "cell_type": "markdown",
   "metadata": {},
   "source": [
    "### load freesurfer LUT table"
   ]
  },
  {
   "cell_type": "code",
   "execution_count": 86,
   "metadata": {
    "collapsed": false
   },
   "outputs": [
    {
     "ename": "IOError",
     "evalue": "File /Users/julialeonard/om/resting_output/FreeSurferColorLUT.txt does not exist",
     "output_type": "error",
     "traceback": [
      "\u001b[0;31m---------------------------------------------------------------------------\u001b[0m",
      "\u001b[0;31mIOError\u001b[0m                                   Traceback (most recent call last)",
      "\u001b[0;32m<ipython-input-86-a90721cef86f>\u001b[0m in \u001b[0;36m<module>\u001b[0;34m()\u001b[0m\n\u001b[1;32m      1\u001b[0m \u001b[0mfsLUT_file\u001b[0m \u001b[0;34m=\u001b[0m \u001b[0;34m'/Users/julialeonard/om/resting_output/FreeSurferColorLUT.txt'\u001b[0m\u001b[0;34m\u001b[0m\u001b[0m\n\u001b[0;32m----> 2\u001b[0;31m \u001b[0mfsLUT\u001b[0m \u001b[0;34m=\u001b[0m \u001b[0mpd\u001b[0m\u001b[0;34m.\u001b[0m\u001b[0mread_table\u001b[0m\u001b[0;34m(\u001b[0m\u001b[0mfsLUT_file\u001b[0m\u001b[0;34m,\u001b[0m\u001b[0mskiprows\u001b[0m\u001b[0;34m=\u001b[0m\u001b[0;36m4\u001b[0m\u001b[0;34m)\u001b[0m\u001b[0;34m\u001b[0m\u001b[0m\n\u001b[0m",
      "\u001b[0;32m/Users/julialeonard/anaconda/lib/python2.7/site-packages/pandas/io/parsers.pyc\u001b[0m in \u001b[0;36mparser_f\u001b[0;34m(filepath_or_buffer, sep, dialect, compression, doublequote, escapechar, quotechar, quoting, skipinitialspace, lineterminator, header, index_col, names, prefix, skiprows, skipfooter, skip_footer, na_values, true_values, false_values, delimiter, converters, dtype, usecols, engine, delim_whitespace, as_recarray, na_filter, compact_ints, use_unsigned, low_memory, buffer_lines, warn_bad_lines, error_bad_lines, keep_default_na, thousands, comment, decimal, parse_dates, keep_date_col, dayfirst, date_parser, memory_map, float_precision, nrows, iterator, chunksize, verbose, encoding, squeeze, mangle_dupe_cols, tupleize_cols, infer_datetime_format, skip_blank_lines)\u001b[0m\n\u001b[1;32m    489\u001b[0m                     skip_blank_lines=skip_blank_lines)\n\u001b[1;32m    490\u001b[0m \u001b[0;34m\u001b[0m\u001b[0m\n\u001b[0;32m--> 491\u001b[0;31m         \u001b[0;32mreturn\u001b[0m \u001b[0m_read\u001b[0m\u001b[0;34m(\u001b[0m\u001b[0mfilepath_or_buffer\u001b[0m\u001b[0;34m,\u001b[0m \u001b[0mkwds\u001b[0m\u001b[0;34m)\u001b[0m\u001b[0;34m\u001b[0m\u001b[0m\n\u001b[0m\u001b[1;32m    492\u001b[0m \u001b[0;34m\u001b[0m\u001b[0m\n\u001b[1;32m    493\u001b[0m     \u001b[0mparser_f\u001b[0m\u001b[0;34m.\u001b[0m\u001b[0m__name__\u001b[0m \u001b[0;34m=\u001b[0m \u001b[0mname\u001b[0m\u001b[0;34m\u001b[0m\u001b[0m\n",
      "\u001b[0;32m/Users/julialeonard/anaconda/lib/python2.7/site-packages/pandas/io/parsers.pyc\u001b[0m in \u001b[0;36m_read\u001b[0;34m(filepath_or_buffer, kwds)\u001b[0m\n\u001b[1;32m    266\u001b[0m \u001b[0;34m\u001b[0m\u001b[0m\n\u001b[1;32m    267\u001b[0m     \u001b[0;31m# Create the parser.\u001b[0m\u001b[0;34m\u001b[0m\u001b[0;34m\u001b[0m\u001b[0m\n\u001b[0;32m--> 268\u001b[0;31m     \u001b[0mparser\u001b[0m \u001b[0;34m=\u001b[0m \u001b[0mTextFileReader\u001b[0m\u001b[0;34m(\u001b[0m\u001b[0mfilepath_or_buffer\u001b[0m\u001b[0;34m,\u001b[0m \u001b[0;34m**\u001b[0m\u001b[0mkwds\u001b[0m\u001b[0;34m)\u001b[0m\u001b[0;34m\u001b[0m\u001b[0m\n\u001b[0m\u001b[1;32m    269\u001b[0m \u001b[0;34m\u001b[0m\u001b[0m\n\u001b[1;32m    270\u001b[0m     \u001b[0;32mif\u001b[0m \u001b[0;34m(\u001b[0m\u001b[0mnrows\u001b[0m \u001b[0;32mis\u001b[0m \u001b[0;32mnot\u001b[0m \u001b[0mNone\u001b[0m\u001b[0;34m)\u001b[0m \u001b[0;32mand\u001b[0m \u001b[0;34m(\u001b[0m\u001b[0mchunksize\u001b[0m \u001b[0;32mis\u001b[0m \u001b[0;32mnot\u001b[0m \u001b[0mNone\u001b[0m\u001b[0;34m)\u001b[0m\u001b[0;34m:\u001b[0m\u001b[0;34m\u001b[0m\u001b[0m\n",
      "\u001b[0;32m/Users/julialeonard/anaconda/lib/python2.7/site-packages/pandas/io/parsers.pyc\u001b[0m in \u001b[0;36m__init__\u001b[0;34m(self, f, engine, **kwds)\u001b[0m\n\u001b[1;32m    581\u001b[0m             \u001b[0mself\u001b[0m\u001b[0;34m.\u001b[0m\u001b[0moptions\u001b[0m\u001b[0;34m[\u001b[0m\u001b[0;34m'has_index_names'\u001b[0m\u001b[0;34m]\u001b[0m \u001b[0;34m=\u001b[0m \u001b[0mkwds\u001b[0m\u001b[0;34m[\u001b[0m\u001b[0;34m'has_index_names'\u001b[0m\u001b[0;34m]\u001b[0m\u001b[0;34m\u001b[0m\u001b[0m\n\u001b[1;32m    582\u001b[0m \u001b[0;34m\u001b[0m\u001b[0m\n\u001b[0;32m--> 583\u001b[0;31m         \u001b[0mself\u001b[0m\u001b[0;34m.\u001b[0m\u001b[0m_make_engine\u001b[0m\u001b[0;34m(\u001b[0m\u001b[0mself\u001b[0m\u001b[0;34m.\u001b[0m\u001b[0mengine\u001b[0m\u001b[0;34m)\u001b[0m\u001b[0;34m\u001b[0m\u001b[0m\n\u001b[0m\u001b[1;32m    584\u001b[0m \u001b[0;34m\u001b[0m\u001b[0m\n\u001b[1;32m    585\u001b[0m     \u001b[0;32mdef\u001b[0m \u001b[0m_get_options_with_defaults\u001b[0m\u001b[0;34m(\u001b[0m\u001b[0mself\u001b[0m\u001b[0;34m,\u001b[0m \u001b[0mengine\u001b[0m\u001b[0;34m)\u001b[0m\u001b[0;34m:\u001b[0m\u001b[0;34m\u001b[0m\u001b[0m\n",
      "\u001b[0;32m/Users/julialeonard/anaconda/lib/python2.7/site-packages/pandas/io/parsers.pyc\u001b[0m in \u001b[0;36m_make_engine\u001b[0;34m(self, engine)\u001b[0m\n\u001b[1;32m    722\u001b[0m     \u001b[0;32mdef\u001b[0m \u001b[0m_make_engine\u001b[0m\u001b[0;34m(\u001b[0m\u001b[0mself\u001b[0m\u001b[0;34m,\u001b[0m \u001b[0mengine\u001b[0m\u001b[0;34m=\u001b[0m\u001b[0;34m'c'\u001b[0m\u001b[0;34m)\u001b[0m\u001b[0;34m:\u001b[0m\u001b[0;34m\u001b[0m\u001b[0m\n\u001b[1;32m    723\u001b[0m         \u001b[0;32mif\u001b[0m \u001b[0mengine\u001b[0m \u001b[0;34m==\u001b[0m \u001b[0;34m'c'\u001b[0m\u001b[0;34m:\u001b[0m\u001b[0;34m\u001b[0m\u001b[0m\n\u001b[0;32m--> 724\u001b[0;31m             \u001b[0mself\u001b[0m\u001b[0;34m.\u001b[0m\u001b[0m_engine\u001b[0m \u001b[0;34m=\u001b[0m \u001b[0mCParserWrapper\u001b[0m\u001b[0;34m(\u001b[0m\u001b[0mself\u001b[0m\u001b[0;34m.\u001b[0m\u001b[0mf\u001b[0m\u001b[0;34m,\u001b[0m \u001b[0;34m**\u001b[0m\u001b[0mself\u001b[0m\u001b[0;34m.\u001b[0m\u001b[0moptions\u001b[0m\u001b[0;34m)\u001b[0m\u001b[0;34m\u001b[0m\u001b[0m\n\u001b[0m\u001b[1;32m    725\u001b[0m         \u001b[0;32melse\u001b[0m\u001b[0;34m:\u001b[0m\u001b[0;34m\u001b[0m\u001b[0m\n\u001b[1;32m    726\u001b[0m             \u001b[0;32mif\u001b[0m \u001b[0mengine\u001b[0m \u001b[0;34m==\u001b[0m \u001b[0;34m'python'\u001b[0m\u001b[0;34m:\u001b[0m\u001b[0;34m\u001b[0m\u001b[0m\n",
      "\u001b[0;32m/Users/julialeonard/anaconda/lib/python2.7/site-packages/pandas/io/parsers.pyc\u001b[0m in \u001b[0;36m__init__\u001b[0;34m(self, src, **kwds)\u001b[0m\n\u001b[1;32m   1091\u001b[0m         \u001b[0mkwds\u001b[0m\u001b[0;34m[\u001b[0m\u001b[0;34m'allow_leading_cols'\u001b[0m\u001b[0;34m]\u001b[0m \u001b[0;34m=\u001b[0m \u001b[0mself\u001b[0m\u001b[0;34m.\u001b[0m\u001b[0mindex_col\u001b[0m \u001b[0;32mis\u001b[0m \u001b[0;32mnot\u001b[0m \u001b[0mFalse\u001b[0m\u001b[0;34m\u001b[0m\u001b[0m\n\u001b[1;32m   1092\u001b[0m \u001b[0;34m\u001b[0m\u001b[0m\n\u001b[0;32m-> 1093\u001b[0;31m         \u001b[0mself\u001b[0m\u001b[0;34m.\u001b[0m\u001b[0m_reader\u001b[0m \u001b[0;34m=\u001b[0m \u001b[0m_parser\u001b[0m\u001b[0;34m.\u001b[0m\u001b[0mTextReader\u001b[0m\u001b[0;34m(\u001b[0m\u001b[0msrc\u001b[0m\u001b[0;34m,\u001b[0m \u001b[0;34m**\u001b[0m\u001b[0mkwds\u001b[0m\u001b[0;34m)\u001b[0m\u001b[0;34m\u001b[0m\u001b[0m\n\u001b[0m\u001b[1;32m   1094\u001b[0m \u001b[0;34m\u001b[0m\u001b[0m\n\u001b[1;32m   1095\u001b[0m         \u001b[0;31m# XXX\u001b[0m\u001b[0;34m\u001b[0m\u001b[0;34m\u001b[0m\u001b[0m\n",
      "\u001b[0;32mpandas/parser.pyx\u001b[0m in \u001b[0;36mpandas.parser.TextReader.__cinit__ (pandas/parser.c:3229)\u001b[0;34m()\u001b[0m\n",
      "\u001b[0;32mpandas/parser.pyx\u001b[0m in \u001b[0;36mpandas.parser.TextReader._setup_parser_source (pandas/parser.c:6042)\u001b[0;34m()\u001b[0m\n",
      "\u001b[0;31mIOError\u001b[0m: File /Users/julialeonard/om/resting_output/FreeSurferColorLUT.txt does not exist"
     ]
    }
   ],
   "source": [
    "fsLUT_file = '/Users/julialeonard/om/resting_output/FreeSurferColorLUT.txt'\n",
    "fsLUT = pd.read_table(fsLUT_file,skiprows=4)"
   ]
  },
  {
   "cell_type": "markdown",
   "metadata": {},
   "source": [
    "### Get ROI names:"
   ]
  },
  {
   "cell_type": "code",
   "execution_count": 32,
   "metadata": {
    "collapsed": false
   },
   "outputs": [],
   "source": [
    "for sx, s in enumerate(sorted(os.listdir(restdir))):\n",
    "    #if len(roi_list > 0):\n",
    "    if s[0] == 'F' and s[1]=='A': # S25 has a weird lh-frontalpole - ends up nan after corrcoef & fisher\n",
    "\n",
    "        subdir = os.path.join(restdir,s,'resting')\n",
    "\n",
    "        # ROI names\n",
    "        sumstats_file = os.path.join(subdir,aparc_results,'rest_01_summary.stats')\n",
    "        sumstats = pd.read_csv(sumstats_file,header=None,skiprows=53)\n",
    "        roi = []\n",
    "        roi_list = []\n",
    "        for r in range(0,sumstats.shape[0]):\n",
    "            roi = sumstats[0][r][30:64]\n",
    "            roi = roi.strip()\n",
    "            roi_list.append(roi)"
   ]
  },
  {
   "cell_type": "code",
   "execution_count": 81,
   "metadata": {
    "collapsed": false
   },
   "outputs": [
    {
     "data": {
      "text/plain": [
       "['Left-Cerebellum-Cortex',\n",
       " 'Left-Thalamus-Proper',\n",
       " 'Left-Caudate',\n",
       " 'Left-Putamen',\n",
       " 'Left-Pallidum',\n",
       " 'Left-Hippocampus',\n",
       " 'Left-Amygdala',\n",
       " 'Left-Accumbens-area',\n",
       " 'Right-Cerebellum-Cortex',\n",
       " 'Right-Thalamus-Proper',\n",
       " 'Right-Caudate',\n",
       " 'Right-Putamen',\n",
       " 'Right-Pallidum',\n",
       " 'Right-Hippocampus',\n",
       " 'Right-Amygdala',\n",
       " 'Right-Accumbens-area',\n",
       " 'ctx-lh-bankssts',\n",
       " 'ctx-lh-caudalanteriorcingulate',\n",
       " 'ctx-lh-caudalmiddlefrontal',\n",
       " 'ctx-lh-cuneus',\n",
       " 'ctx-lh-entorhinal',\n",
       " 'ctx-lh-fusiform',\n",
       " 'ctx-lh-inferiorparietal',\n",
       " 'ctx-lh-inferiortemporal',\n",
       " 'ctx-lh-isthmuscingulate',\n",
       " 'ctx-lh-lateraloccipital',\n",
       " 'ctx-lh-lateralorbitofrontal',\n",
       " 'ctx-lh-lingual',\n",
       " 'ctx-lh-medialorbitofrontal',\n",
       " 'ctx-lh-middletemporal',\n",
       " 'ctx-lh-parahippocampal',\n",
       " 'ctx-lh-paracentral',\n",
       " 'ctx-lh-parsopercularis',\n",
       " 'ctx-lh-parsorbitalis',\n",
       " 'ctx-lh-parstriangularis',\n",
       " 'ctx-lh-pericalcarine',\n",
       " 'ctx-lh-postcentral',\n",
       " 'ctx-lh-posteriorcingulate',\n",
       " 'ctx-lh-precentral',\n",
       " 'ctx-lh-precuneus',\n",
       " 'ctx-lh-rostralanteriorcingulate',\n",
       " 'ctx-lh-rostralmiddlefrontal',\n",
       " 'ctx-lh-superiorfrontal',\n",
       " 'ctx-lh-superiorparietal',\n",
       " 'ctx-lh-superiortemporal',\n",
       " 'ctx-lh-supramarginal',\n",
       " 'ctx-lh-frontalpole',\n",
       " 'ctx-lh-temporalpole',\n",
       " 'ctx-lh-transversetemporal',\n",
       " 'ctx-lh-insula',\n",
       " 'ctx-rh-bankssts',\n",
       " 'ctx-rh-caudalanteriorcingulate',\n",
       " 'ctx-rh-caudalmiddlefrontal',\n",
       " 'ctx-rh-cuneus',\n",
       " 'ctx-rh-entorhinal',\n",
       " 'ctx-rh-fusiform',\n",
       " 'ctx-rh-inferiorparietal',\n",
       " 'ctx-rh-inferiortemporal',\n",
       " 'ctx-rh-isthmuscingulate',\n",
       " 'ctx-rh-lateraloccipital',\n",
       " 'ctx-rh-lateralorbitofrontal',\n",
       " 'ctx-rh-lingual',\n",
       " 'ctx-rh-medialorbitofrontal',\n",
       " 'ctx-rh-middletemporal',\n",
       " 'ctx-rh-parahippocampal',\n",
       " 'ctx-rh-paracentral',\n",
       " 'ctx-rh-parsopercularis',\n",
       " 'ctx-rh-parsorbitalis',\n",
       " 'ctx-rh-parstriangularis',\n",
       " 'ctx-rh-pericalcarine',\n",
       " 'ctx-rh-postcentral',\n",
       " 'ctx-rh-posteriorcingulate',\n",
       " 'ctx-rh-precentral',\n",
       " 'ctx-rh-precuneus',\n",
       " 'ctx-rh-rostralanteriorcingulate',\n",
       " 'ctx-rh-rostralmiddlefrontal',\n",
       " 'ctx-rh-superiorfrontal',\n",
       " 'ctx-rh-superiorparietal',\n",
       " 'ctx-rh-superiortemporal',\n",
       " 'ctx-rh-supramarginal',\n",
       " 'ctx-rh-frontalpole',\n",
       " 'ctx-rh-temporalpole',\n",
       " 'ctx-rh-transversetemporal',\n",
       " 'ctx-rh-insula']"
      ]
     },
     "execution_count": 81,
     "metadata": {},
     "output_type": "execute_result"
    }
   ],
   "source": [
    "roi_list"
   ]
  },
  {
   "cell_type": "code",
   "execution_count": 33,
   "metadata": {
    "collapsed": true
   },
   "outputs": [],
   "source": [
    "names = []\n",
    "for rn in range(0,len(roi_list)):#rs_timecorr.shape[1]):\n",
    "    names.append(roi_list[rn])"
   ]
  },
  {
   "cell_type": "markdown",
   "metadata": {},
   "source": [
    "### Reorder into structurally similar groups:¶\n"
   ]
  },
  {
   "cell_type": "code",
   "execution_count": 34,
   "metadata": {
    "collapsed": false
   },
   "outputs": [],
   "source": [
    "# want the mne circle plot to have anterior on left, posterior on right, with rh on top and lh on bottom\n",
    "# start with posterior rh\n",
    "\n",
    "anat_order = ['Right-Cerebellum-Cortex',\\\n",
    "              'Right-Thalamus-Proper','Right-Pallidum','Right-Putamen','Right-Caudate', 'Right-Hippocampus','Right-Amygdala','Right-Accumbens-area',\\\n",
    "              'wm-rh-lateraloccipital','wm-rh-lingual','wm-rh-cuneus','wm-rh-pericalcarine',\\\n",
    "              'wm-rh-precuneus','wm-rh-superiorparietal','wm-rh-inferiorparietal','wm-rh-supramarginal',\\\n",
    "              'wm-rh-parahippocampal','wm-rh-entorhinal','wm-rh-fusiform','wm-rh-inferiortemporal','wm-rh-temporalpole','wm-rh-middletemporal','wm-rh-transversetemporal','wm-rh-bankssts','wm-rh-superiortemporal',\\\n",
    "              'wm-rh-insula',\\\n",
    "              'wm-rh-posteriorcingulate','wm-rh-isthmuscingulate','wm-rh-caudalanteriorcingulate','wm-rh-rostralanteriorcingulate',\\\n",
    "              'wm-rh-paracentral','wm-rh-postcentral','wm-rh-precentral', \\\n",
    "              'wm-rh-parsopercularis','wm-rh-parstriangularis','wm-rh-parsorbitalis','wm-rh-lateralorbitofrontal','wm-rh-caudalmiddlefrontal','wm-rh-medialorbitofrontal','wm-rh-rostralmiddlefrontal','wm-rh-superiorfrontal','wm-rh-frontalpole',\\\n",
    "              'wm-lh-frontalpole','wm-lh-superiorfrontal', 'wm-lh-rostralmiddlefrontal','wm-lh-medialorbitofrontal','wm-lh-caudalmiddlefrontal', \\\n",
    "              'wm-lh-lateralorbitofrontal','wm-lh-parsorbitalis','wm-lh-parstriangularis','wm-lh-parsopercularis',\\\n",
    "              'wm-lh-precentral','wm-lh-postcentral','wm-lh-paracentral','wm-lh-rostralanteriorcingulate', \\\n",
    "              'wm-lh-caudalanteriorcingulate','wm-lh-posteriorcingulate','wm-lh-isthmuscingulate','wm-lh-insula',\\\n",
    "              'wm-lh-superiortemporal','wm-lh-bankssts','wm-lh-transversetemporal','wm-lh-middletemporal', \\\n",
    "              'wm-lh-temporalpole','wm-lh-inferiortemporal','wm-lh-fusiform','wm-lh-entorhinal','wm-lh-parahippocampal',\\\n",
    "              'wm-lh-supramarginal',\\\n",
    "              'wm-lh-inferiorparietal','wm-lh-superiorparietal','wm-lh-precuneus','wm-lh-pericalcarine','wm-lh-cuneus',\\\n",
    "              'wm-lh-lingual','wm-lh-lateraloccipital','Left-Accumbens-area','Left-Amygdala', \\\n",
    "              'Left-Hippocampus','Left-Caudate','Left-Putamen','Left-Pallidum','Left-Thalamus-Proper', \\\n",
    "              'Left-Cerebellum-Cortex'] \n",
    "'''order:\n",
    "[brainstem, right_cerebellum, right_subcort, right_cortex, right_occipital, right_parietal, \\\n",
    "right_temporal, right_insula, right_cingulate,right_frontal,right_central_frontal,right_medinf_frontal, \\\n",
    "right_suplat_frontal,left_suplat_frontal,left_medinf_frontal,left_central_frontal,left_frontal, \\\n",
    "left_cingulate,left_insula,left_suplat_temporal,left_medinf_temporal,left_temporal,left_parietal,left_occipital, \\\n",
    "left_cortex,left_subcort, left_cerebellum])\n",
    "'''\n",
    "anat_order.reverse()\n",
    "\n",
    "anat_order = [n.replace('wm-','ctx-') for n in anat_order]\n",
    "\n",
    "anat_num_order = np.zeros((len(anat_order),1))\n",
    "for ax,anat in enumerate(anat_order):\n",
    "    anat_num_order[ax] = int(list(names).index(anat))\n",
    "\n"
   ]
  },
  {
   "cell_type": "code",
   "execution_count": 35,
   "metadata": {
    "collapsed": false
   },
   "outputs": [],
   "source": [
    "roi_list_sh = []\n",
    "for r in anat_order:#roi_list:\n",
    "    if r[0:4] == 'ctx-':\n",
    "        roi_list_sh.append(r[4:])\n",
    "    elif r[-7:]=='-Cortex':\n",
    "        roi_list_sh.append(r[:-7])\n",
    "    elif r[-7:]=='-Proper':\n",
    "        roi_list_sh.append(r[:-7])\n",
    "    elif r[-5:]=='-area':\n",
    "        roi_list_sh.append(r[:-5])\n",
    "    else:\n",
    "        roi_list_sh.append(r)\n",
    "#print roi_list_sh\n"
   ]
  },
  {
   "cell_type": "markdown",
   "metadata": {},
   "source": [
    "### Extract resting state timecourse data"
   ]
  },
  {
   "cell_type": "markdown",
   "metadata": {},
   "source": [
    "For each subject, run cross-correlations across all ROIs and save as ROIxROI timecorr matrix:"
   ]
  },
  {
   "cell_type": "code",
   "execution_count": 36,
   "metadata": {
    "collapsed": false
   },
   "outputs": [
    {
     "data": {
      "text/plain": [
       "array([[ 0.],\n",
       "       [ 1.],\n",
       "       [ 4.],\n",
       "       [ 3.],\n",
       "       [ 2.]])"
      ]
     },
     "execution_count": 36,
     "metadata": {},
     "output_type": "execute_result"
    }
   ],
   "source": [
    "anat_num_order[:5]"
   ]
  },
  {
   "cell_type": "code",
   "execution_count": 69,
   "metadata": {
    "collapsed": false
   },
   "outputs": [],
   "source": [
    "pws_i = 0\n",
    "pfs_i = 0\n",
    "rs_timecorr_pws = []\n",
    "rs_timecorr_pfs = []\n",
    "pws_subs = []\n",
    "pfs_subs = []\n",
    "\n",
    "n_subs = 0\n",
    "rs_timecorr_allsubs = []\n",
    "all_subs = []\n",
    "\n",
    "for sx, s in enumerate(sorted(os.listdir(restdir))):\n",
    "    if s[0] == 'F' and s[1] =='A' : \n",
    "        \n",
    "        subdir = os.path.join(restdir,s,'resting')\n",
    "\n",
    "        # timecourse data\n",
    "        avgwf_file = os.path.join(subdir,aparc_results,'rest_01_avgwf.txt')\n",
    "        avgwf = np.loadtxt(avgwf_file)\n",
    "        rs_timecorr = np.zeros((avgwf.shape[1],avgwf.shape[1]))\n",
    "        # for roi_reorder, see below in ROI names section:\n",
    "        for ix, r in enumerate(anat_num_order):#range(0,avgwf.shape[1]):\n",
    "            r = int(r)\n",
    "            for inx, rn in enumerate(anat_num_order):\n",
    "                rn = int(rn)\n",
    "                #rs_timecorr[r,rn] = np.correlate(avgwf[:,r],avgwf[:,rn])\n",
    "                # arctanh = Fisher transform:\n",
    "                rs_timecorr[ix,inx] = np.arctanh(np.corrcoef(avgwf[:,r],avgwf[:,rn])[0,1]) \n",
    "                \n",
    "                # changed 3/11/16 - shouldn't this be by anat_num_order, not by ix?\n",
    "                #rs_timecorr[r,rn] = np.arctanh(np.corrcoef(avgwf[:,r],avgwf[:,rn])[0,1])\n",
    "                # 3/12: ^^ NO. we want to reorder the data\n",
    "                \n",
    "        #timefile = os.path.join(subdir,aparc_results,'time_corr.txt')\n",
    "        #np.savetxt(timefile, rs_timecorr)\n",
    "        \n",
    "        if n_subs == 0:\n",
    "            rs_timecorr_allsubs = rs_timecorr\n",
    "            rs_timeseries = avgwf\n",
    "        else:\n",
    "            rs_timecorr_allsubs = np.vstack((rs_timecorr_allsubs, rs_timecorr))\n",
    "            rs_timeseries = np.vstack((rs_timeseries,avgwf))\n",
    "        all_subs.append(s)\n",
    "        n_subs += 1\n",
    "        #rs_timecorr_allsubs = np.vstack((rs_timecorr_allsubs, rs_timecorr))\n",
    "\n",
    "        \n",
    "        # add to group-level data\n",
    "        #a = np.array(s[5:8])\n",
    "        #if a.astype(int) - 1 in pws:\n",
    "        if s in pws:\n",
    "            if pws_i == 0:\n",
    "                rs_timecorr_pws = rs_timecorr\n",
    "            else:\n",
    "                rs_timecorr_pws = np.vstack((rs_timecorr_pws,rs_timecorr))\n",
    "            pws_i += 1\n",
    "            pws_subs.append(s)\n",
    "        if s in pfs:\n",
    "            if pfs_i == 0:\n",
    "                rs_timecorr_pfs = rs_timecorr\n",
    "            else:\n",
    "                rs_timecorr_pfs = np.vstack((rs_timecorr_pfs,rs_timecorr))\n",
    "            pfs_i += 1\n",
    "            pfs_subs.append(s)\n",
    "\n",
    "# reshape to 3D (subj x ROI x ROI)\n",
    "rs_timeseries = rs_timeseries.reshape((n_subs,-1,84))\n",
    "rs_timecorr_allsubs = rs_timecorr_allsubs.reshape((n_subs,-1,84))\n",
    "rs_timecorr_pws = rs_timecorr_pws.reshape((pws_i,-1,84))\n",
    "rs_timecorr_pfs = rs_timecorr_pfs.reshape((pfs_i,-1,84))"
   ]
  },
  {
   "cell_type": "code",
   "execution_count": 72,
   "metadata": {
    "collapsed": false
   },
   "outputs": [
    {
     "data": {
      "text/plain": [
       "['FACT_106',\n",
       " 'FACT_108',\n",
       " 'FACT_109',\n",
       " 'FACT_110',\n",
       " 'FACT_115',\n",
       " 'FACT_116',\n",
       " 'FACT_120',\n",
       " 'FACT_123',\n",
       " 'FACT_128',\n",
       " 'FACT_141',\n",
       " 'FACT_142',\n",
       " 'FACT_151',\n",
       " 'FACT_159',\n",
       " 'FACT_160',\n",
       " 'FACT_165',\n",
       " 'FACT_166',\n",
       " 'FACT_167',\n",
       " 'FACT_172',\n",
       " 'FACT_176',\n",
       " 'FACT_177',\n",
       " 'FACT_179',\n",
       " 'FACT_182']"
      ]
     },
     "execution_count": 72,
     "metadata": {},
     "output_type": "execute_result"
    }
   ],
   "source": [
    "#check data!\n",
    "pfs_subs"
   ]
  },
  {
   "cell_type": "code",
   "execution_count": 82,
   "metadata": {
    "collapsed": false
   },
   "outputs": [
    {
     "ename": "TypeError",
     "evalue": "list indices must be integers, not str",
     "output_type": "error",
     "traceback": [
      "\u001b[0;31m---------------------------------------------------------------------------\u001b[0m",
      "\u001b[0;31mTypeError\u001b[0m                                 Traceback (most recent call last)",
      "\u001b[0;32m<ipython-input-82-9b57d66cc74f>\u001b[0m in \u001b[0;36m<module>\u001b[0;34m()\u001b[0m\n\u001b[1;32m      4\u001b[0m \u001b[0msns\u001b[0m\u001b[0;34m.\u001b[0m\u001b[0mset_context\u001b[0m\u001b[0;34m(\u001b[0m\u001b[0;34m\"notebook\"\u001b[0m\u001b[0;34m,\u001b[0m \u001b[0mfont_scale\u001b[0m\u001b[0;34m=\u001b[0m\u001b[0;36m1.0\u001b[0m\u001b[0;34m,\u001b[0m \u001b[0mrc\u001b[0m\u001b[0;34m=\u001b[0m\u001b[0;34m{\u001b[0m\u001b[0;34m\"lines.linewidth\"\u001b[0m\u001b[0;34m:\u001b[0m \u001b[0;36m2.5\u001b[0m\u001b[0;34m}\u001b[0m\u001b[0;34m)\u001b[0m\u001b[0;34m\u001b[0m\u001b[0m\n\u001b[1;32m      5\u001b[0m \u001b[0mf\u001b[0m\u001b[0;34m,\u001b[0m \u001b[0max\u001b[0m \u001b[0;34m=\u001b[0m \u001b[0mplt\u001b[0m\u001b[0;34m.\u001b[0m\u001b[0msubplots\u001b[0m\u001b[0;34m(\u001b[0m\u001b[0mfigsize\u001b[0m\u001b[0;34m=\u001b[0m\u001b[0;34m(\u001b[0m\u001b[0;36m14\u001b[0m\u001b[0;34m,\u001b[0m\u001b[0;36m14\u001b[0m\u001b[0;34m)\u001b[0m\u001b[0;34m)\u001b[0m\u001b[0;34m\u001b[0m\u001b[0m\n\u001b[0;32m----> 6\u001b[0;31m \u001b[0max\u001b[0m\u001b[0;34m.\u001b[0m\u001b[0mset_title\u001b[0m\u001b[0;34m(\u001b[0m\u001b[0;34m'subject %s correlations'\u001b[0m\u001b[0;34m%\u001b[0m\u001b[0;34m(\u001b[0m\u001b[0mall_subs\u001b[0m\u001b[0;34m[\u001b[0m\u001b[0ms\u001b[0m\u001b[0;34m]\u001b[0m\u001b[0;34m)\u001b[0m\u001b[0;34m)\u001b[0m\u001b[0;34m\u001b[0m\u001b[0m\n\u001b[0m\u001b[1;32m      7\u001b[0m \u001b[0msns\u001b[0m\u001b[0;34m.\u001b[0m\u001b[0mcolor_palette\u001b[0m\u001b[0;34m(\u001b[0m\u001b[0;34m\"RdBu_r\"\u001b[0m\u001b[0;34m)\u001b[0m\u001b[0;34m\u001b[0m\u001b[0m\n\u001b[1;32m      8\u001b[0m sns.corrplot(rs_timecorr_allsubs[s,:,:], annot=False, sig_stars=False,\n",
      "\u001b[0;31mTypeError\u001b[0m: list indices must be integers, not str"
     ]
    },
    {
     "data": {
      "image/png": "[encoded data removed]",
      "text/plain": [
       "<matplotlib.figure.Figure at 0x109aed1d0>"
      ]
     },
     "metadata": {},
     "output_type": "display_data"
    }
   ],
   "source": [
    "#print rs_timecorr_allsubs[s,38:44,38:44]\n",
    "\n",
    "sns.set(style=\"darkgrid\")\n",
    "sns.set_context(\"notebook\", font_scale=1.0, rc={\"lines.linewidth\": 2.5})\n",
    "f, ax = plt.subplots(figsize=(14,14))\n",
    "ax.set_title('subject %s correlations'%(all_subs[s]))\n",
    "sns.color_palette(\"RdBu_r\")\n",
    "sns.corrplot(rs_timecorr_allsubs[s,:,:], annot=False, sig_stars=False,\n",
    "             diag_names=False, ax=ax, names = roi_list_sh)\n",
    "f.tight_layout()\n"
   ]
  },
  {
   "cell_type": "code",
   "execution_count": 74,
   "metadata": {
    "collapsed": false
   },
   "outputs": [
    {
     "name": "stdout",
     "output_type": "stream",
     "text": [
      "(62, 84, 84)\n",
      "(22, 84, 84)\n",
      "(19, 84, 84)\n"
     ]
    }
   ],
   "source": [
    "print rs_timecorr_allsubs.shape\n",
    "print rs_timecorr_pfs.shape\n",
    "print rs_timecorr_pws.shape"
   ]
  },
  {
   "cell_type": "markdown",
   "metadata": {},
   "source": [
    "### Get the mean value across subjects (within each group):¶"
   ]
  },
  {
   "cell_type": "code",
   "execution_count": 77,
   "metadata": {
    "collapsed": false
   },
   "outputs": [
    {
     "name": "stdout",
     "output_type": "stream",
     "text": [
      "(84, 84)\n",
      "(84, 84)\n"
     ]
    }
   ],
   "source": [
    "rs_mean_pws = np.mean(rs_timecorr_pws,axis=0)\n",
    "rs_mean_pfs = np.mean(rs_timecorr_pfs,axis=0)\n",
    "print rs_mean_pfs.shape\n",
    "print rs_mean_pws.shape"
   ]
  },
  {
   "cell_type": "code",
   "execution_count": 79,
   "metadata": {
    "collapsed": false
   },
   "outputs": [
    {
     "data": {
      "text/plain": [
       "array([[        inf,  0.33749137,  0.49143743,  0.44839792,  0.43358904,\n",
       "         0.35137671],\n",
       "       [ 0.33749137,         inf,  0.66236028,  0.33541636,  0.29995851,\n",
       "         0.5517171 ],\n",
       "       [ 0.49143743,  0.66236028,         inf,  0.31881147,  0.25517339,\n",
       "         1.032874  ],\n",
       "       [ 0.44839792,  0.33541636,  0.31881147,         inf,  0.76409454,\n",
       "         0.23561752],\n",
       "       [ 0.43358904,  0.29995851,  0.25517339,  0.76409454,         inf,\n",
       "         0.30965364],\n",
       "       [ 0.35137671,  0.5517171 ,  1.032874  ,  0.23561752,  0.30965364,\n",
       "                inf]])"
      ]
     },
     "execution_count": 79,
     "metadata": {},
     "output_type": "execute_result"
    }
   ],
   "source": [
    "rs_mean_pfs[38:44,38:44]"
   ]
  },
  {
   "cell_type": "code",
   "execution_count": null,
   "metadata": {
    "collapsed": true
   },
   "outputs": [],
   "source": []
  },
  {
   "cell_type": "code",
   "execution_count": null,
   "metadata": {
    "collapsed": true
   },
   "outputs": [],
   "source": []
  },
  {
   "cell_type": "code",
   "execution_count": null,
   "metadata": {
    "collapsed": true
   },
   "outputs": [],
   "source": []
  },
  {
   "cell_type": "code",
   "execution_count": null,
   "metadata": {
    "collapsed": true
   },
   "outputs": [],
   "source": []
  },
  {
   "cell_type": "code",
   "execution_count": 78,
   "metadata": {
    "collapsed": false
   },
   "outputs": [
    {
     "data": {
      "text/plain": [
       "array([[        inf,  0.33749137,  0.49143743,  0.44839792,  0.43358904,\n",
       "         0.35137671],\n",
       "       [ 0.33749137,         inf,  0.66236028,  0.33541636,  0.29995851,\n",
       "         0.5517171 ],\n",
       "       [ 0.49143743,  0.66236028,         inf,  0.31881147,  0.25517339,\n",
       "         1.032874  ],\n",
       "       [ 0.44839792,  0.33541636,  0.31881147,         inf,  0.76409454,\n",
       "         0.23561752],\n",
       "       [ 0.43358904,  0.29995851,  0.25517339,  0.76409454,         inf,\n",
       "         0.30965364],\n",
       "       [ 0.35137671,  0.5517171 ,  1.032874  ,  0.23561752,  0.30965364,\n",
       "                inf]])"
      ]
     },
     "execution_count": 78,
     "metadata": {},
     "output_type": "execute_result"
    }
   ],
   "source": [
    "rs_mean_pfs[38:44,38:44]"
   ]
  }
 ],
 "metadata": {
  "kernelspec": {
   "display_name": "Python 2",
   "language": "python",
   "name": "python2"
  },
  "language_info": {
   "codemirror_mode": {
    "name": "ipython",
    "version": 2
   },
   "file_extension": ".py",
   "mimetype": "text/x-python",
   "name": "python",
   "nbconvert_exporter": "python",
   "pygments_lexer": "ipython2",
   "version": "2.7.12"
  }
 },
 "nbformat": 4,
 "nbformat_minor": 0
}
